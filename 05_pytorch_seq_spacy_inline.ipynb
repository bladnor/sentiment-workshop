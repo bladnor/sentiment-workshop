{
 "cells": [
  {
   "cell_type": "code",
   "execution_count": 1,
   "metadata": {},
   "outputs": [
    {
     "name": "stdout",
     "output_type": "stream",
     "text": [
      "Exception reporting mode: Verbose\n"
     ]
    }
   ],
   "source": [
    "%reload_ext autoreload\n",
    "%autoreload 2\n",
    "\n",
    "%xmode Verbose"
   ]
  },
  {
   "cell_type": "code",
   "execution_count": 2,
   "metadata": {
    "scrolled": false
   },
   "outputs": [
    {
     "name": "stdout",
     "output_type": "stream",
     "text": [
      "train len 4007\n",
      "val len 1002\n",
      "test len 3398\n",
      "text vocab size 15971\n",
      "lemma vocab size 15096\n",
      "label vocab size 2\n"
     ]
    },
    {
     "name": "stderr",
     "output_type": "stream",
     "text": [
      "/Users/michel/.conda/envs/pytorch/lib/python3.6/site-packages/torchtext/data/field.py:322: UserWarning: volatile was removed and now has no effect. Use `with torch.no_grad():` instead.\n",
      "  return Variable(arr, volatile=not train)\n"
     ]
    },
    {
     "name": "stdout",
     "output_type": "stream",
     "text": [
      "EPOCH: 00 - TRN_LOSS: 0.685 - TRN_ACC: 56.89% - VAL_LOSS: 0.641 - VAL_ACC: 63.71%\n",
      "EPOCH: 01 - TRN_LOSS: 0.669 - TRN_ACC: 66.18% - VAL_LOSS: 0.634 - VAL_ACC: 64.50%\n",
      "EPOCH: 02 - TRN_LOSS: 0.656 - TRN_ACC: 66.28% - VAL_LOSS: 0.632 - VAL_ACC: 64.80%\n",
      "EPOCH: 03 - TRN_LOSS: 0.649 - TRN_ACC: 66.35% - VAL_LOSS: 0.633 - VAL_ACC: 65.30%\n",
      "EPOCH: 04 - TRN_LOSS: 0.642 - TRN_ACC: 66.26% - VAL_LOSS: 0.633 - VAL_ACC: 65.50%\n",
      "TEST_LOSS: 0.667, TEST_ACC: 65.88%\n"
     ]
    }
   ],
   "source": [
    "%run 05_pytorch_seq.py"
   ]
  }
 ],
 "metadata": {
  "kernelspec": {
   "display_name": "Python (pytorch)",
   "language": "python",
   "name": "pytorch"
  },
  "language_info": {
   "codemirror_mode": {
    "name": "ipython",
    "version": 3
   },
   "file_extension": ".py",
   "mimetype": "text/x-python",
   "name": "python",
   "nbconvert_exporter": "python",
   "pygments_lexer": "ipython3",
   "version": "3.6.6"
  }
 },
 "nbformat": 4,
 "nbformat_minor": 2
}
