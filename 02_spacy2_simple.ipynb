{
 "cells": [
  {
   "cell_type": "code",
   "execution_count": 17,
   "metadata": {},
   "outputs": [],
   "source": [
    "from __future__ import unicode_literals, print_function\n",
    "import plac\n",
    "import random\n",
    "from pathlib import Path\n",
    "import pandas as pd\n",
    "import numpy as np\n",
    "import math\n",
    "import thinc.extra.datasets\n",
    "\n",
    "import warnings\n",
    "warnings.filterwarnings(\"ignore\", message=\"numpy.dtype size changed\")\n",
    "warnings.filterwarnings(\"ignore\", message=\"numpy.ufunc size changed\")\n",
    "\n",
    "import spacy\n",
    "from spacy.util import minibatch, compounding, decaying"
   ]
  },
  {
   "cell_type": "code",
   "execution_count": 2,
   "metadata": {},
   "outputs": [],
   "source": [
    "n_iter = 20"
   ]
  },
  {
   "cell_type": "code",
   "execution_count": 3,
   "metadata": {},
   "outputs": [],
   "source": [
    "def get_data(validation_ratio=0.1):\n",
    "    df_trn = pd.read_csv('germeval2018.training.txt', sep='\\t', header=None, names=['text', 'bin', 'detail']).drop('detail', axis=1)\n",
    "    \n",
    "    idx = np.arange(len(df_trn))\n",
    "    np.random.shuffle(idx)\n",
    "    val_size = math.ceil(len(df_trn) * validation_ratio)\n",
    "    \n",
    "    val_df = df_trn.iloc[idx[:val_size]]\n",
    "    trn_df = df_trn.iloc[idx[val_size:]]\n",
    "    \n",
    "    trn_labels = [{'OFFENSE': x == 'OFFENSE'} for x in trn_df['bin'].values]\n",
    "    val_labels = [{'OFFENSE': x == 'OFFENSE'} for x in val_df['bin'].values]\n",
    "    \n",
    "    return (tuple(trn_df['text'].values), trn_labels), (tuple(val_df['text'].values), val_labels)\n",
    "    "
   ]
  },
  {
   "cell_type": "code",
   "execution_count": 4,
   "metadata": {},
   "outputs": [],
   "source": [
    "def evaluate(tokenizer, textcat, texts, cats):\n",
    "    docs = (tokenizer(text) for text in texts)\n",
    "    tp = 1e-8  # True positives\n",
    "    fp = 1e-8  # False positives\n",
    "    fn = 1e-8  # False negatives\n",
    "    tn = 1e-8  # True negatives\n",
    "    for i, doc in enumerate(textcat.pipe(docs)):\n",
    "        gold = cats[i]\n",
    "        for label, score in doc.cats.items():\n",
    "            if label not in gold:\n",
    "                continue\n",
    "            if score >= 0.5 and gold[label] >= 0.5:\n",
    "                tp += 1.\n",
    "            elif score >= 0.5 and gold[label] < 0.5:\n",
    "                fp += 1.\n",
    "            elif score < 0.5 and gold[label] < 0.5:\n",
    "                tn += 1\n",
    "            elif score < 0.5 and gold[label] >= 0.5:\n",
    "                fn += 1\n",
    "    precision = tp / (tp + fp)\n",
    "    recall = tp / (tp + fn)\n",
    "    f_score = 2 * (precision * recall) / (precision + recall)\n",
    "    return {'textcat_p': precision, 'textcat_r': recall, 'textcat_f': f_score}\n"
   ]
  },
  {
   "cell_type": "code",
   "execution_count": 5,
   "metadata": {
    "scrolled": true
   },
   "outputs": [
    {
     "name": "stdout",
     "output_type": "stream",
     "text": [
      "Using examples (4508 training, 501 evaluation)\n"
     ]
    },
    {
     "data": {
      "text/plain": [
       "[('@Frank_Pasemann @KrahMax 😂😂...in Deutschland ist alles normal....wer tatsächlich noch Respekt den deutschen gegenüber bringt gilt schon als Aussätziger.... |LBR| Wir hätten die Juden in Ruhe lassen sollen...wir hätten den Krieg niemals verlieren dürfen.',\n",
       "  {'cats': {'OFFENSE': False}})]"
      ]
     },
     "execution_count": 5,
     "metadata": {},
     "output_type": "execute_result"
    }
   ],
   "source": [
    "(train_texts, train_cats), (dev_texts, dev_cats) = get_data()\n",
    "\n",
    "#print(f'text: {train_texts[:2]}')\n",
    "#print(f'cats: {train_cats[:2]}')\n",
    "#print(f'cats: {dev_cats[:2]}')\n",
    "\n",
    "print(\"Using examples ({} training, {} evaluation)\".format(len(train_texts), len(dev_texts)))\n",
    "train_data = list(zip(train_texts, [{'cats': cats} for cats in train_cats]))\n",
    "train_data[3:4]"
   ]
  },
  {
   "cell_type": "code",
   "execution_count": 6,
   "metadata": {},
   "outputs": [],
   "source": [
    "class TwitterHandleMatcher(object):\n",
    "    def __init__(self, nlp):\n",
    "        self.pos_value = 95 # PROPN\n",
    "\n",
    "    def __call__(self, doc):\n",
    "        for i, t in enumerate(doc):\n",
    "            if t.text.startswith('@'):\n",
    "                span = doc[i:i+1]\n",
    "                span.merge(pos=self.pos_value)\n",
    "        return doc\n",
    "                "
   ]
  },
  {
   "cell_type": "code",
   "execution_count": null,
   "metadata": {},
   "outputs": [],
   "source": []
  },
  {
   "cell_type": "code",
   "execution_count": 15,
   "metadata": {},
   "outputs": [
    {
     "name": "stdout",
     "output_type": "stream",
     "text": [
      "loaded model de\n",
      "pipeline ['tagger', 'TwitterHandleMatcher', 'parser', 'ner', 'textcat']\n"
     ]
    }
   ],
   "source": [
    "#nlp = spacy.load('de_core_news_md')\n",
    "nlp = spacy.load('/Users/michel/innoq/machinelearning/germeval2018/twitter_vec_200')\n",
    "DEFAULT_PIPES = ['tagger', 'parser', 'ner']\n",
    "for n in DEFAULT_PIPES:\n",
    "    p = nlp.create_pipe(n)\n",
    "    nlp.add_pipe(p, last=True)\n",
    "print(f'loaded model {nlp.lang}')\n",
    "\n",
    "twitter = TwitterHandleMatcher(nlp)\n",
    "nlp.add_pipe(twitter, after='tagger')\n",
    "\n",
    "if 'textcat' not in nlp.pipe_names:\n",
    "    textcat = nlp.create_pipe('textcat')\n",
    "    nlp.add_pipe(textcat, last=True)\n",
    "else:\n",
    "    textcat = nlp.get_pipe('textcat')\n",
    "\n",
    "textcat.add_label('OFFENSE')\n",
    "\n",
    "print(f'pipeline {nlp.pipe_names}')"
   ]
  },
  {
   "cell_type": "code",
   "execution_count": null,
   "metadata": {},
   "outputs": [],
   "source": []
  },
  {
   "cell_type": "code",
   "execution_count": 8,
   "metadata": {},
   "outputs": [],
   "source": [
    "#doc = nlp(train_texts[3])"
   ]
  },
  {
   "cell_type": "code",
   "execution_count": 20,
   "metadata": {},
   "outputs": [
    {
     "name": "stdout",
     "output_type": "stream",
     "text": [
      "Exception reporting mode: Verbose\n",
      "Training the model...\n",
      "\tLOSS \t  P  \t  R  \t  F  \n",
      "0\t86.283\t0.759\t0.434\t0.552\n",
      "1\t64.526\t0.727\t0.534\t0.616\n",
      "2\t43.696\t0.683\t0.503\t0.579\n",
      "3\t32.662\t0.676\t0.508\t0.580\n",
      "4\t26.190\t0.680\t0.540\t0.602\n",
      "5\t19.169\t0.690\t0.529\t0.599\n",
      "6\t15.901\t0.669\t0.524\t0.588\n",
      "7\t14.385\t0.671\t0.519\t0.585\n",
      "8\t11.039\t0.667\t0.529\t0.590\n",
      "9\t10.520\t0.647\t0.534\t0.586\n",
      "10\t10.945\t0.641\t0.529\t0.580\n",
      "11\t8.094\t0.660\t0.566\t0.610\n",
      "12\t7.519\t0.664\t0.534\t0.592\n",
      "13\t5.268\t0.639\t0.524\t0.576\n",
      "14\t6.019\t0.669\t0.545\t0.601\n",
      "15\t4.473\t0.652\t0.534\t0.587\n",
      "16\t5.199\t0.647\t0.534\t0.586\n",
      "17\t4.056\t0.633\t0.529\t0.576\n",
      "18\t4.486\t0.647\t0.524\t0.579\n",
      "19\t4.686\t0.645\t0.529\t0.581\n"
     ]
    }
   ],
   "source": [
    "%xmode Verbose\n",
    "# get names of other pipes to disable them during training\n",
    "other_pipes = [pipe for pipe in nlp.pipe_names if pipe != 'textcat']\n",
    "with nlp.disable_pipes(*other_pipes):  # only train textcat\n",
    "    optimizer = nlp.begin_training()\n",
    "    optimizer.max_grad_norm = 0.6\n",
    "    print(\"Training the model...\")\n",
    "    print('\\t{:^5}\\t{:^5}\\t{:^5}\\t{:^5}'.format('LOSS', 'P', 'R', 'F'))\n",
    "    best_f = 0\n",
    "    last_f = 0\n",
    "    n_iter_nogain = 0\n",
    "    dropout = decaying(0.45, 0.2, 1e-4)\n",
    "    for i in range(n_iter):\n",
    "        losses = {}\n",
    "        # batch up the examples using spaCy's minibatch\n",
    "        batches = minibatch(train_data, size=compounding(1, 8, 1.01))\n",
    "        for batch in batches:\n",
    "            texts, annotations = zip(*batch)\n",
    "            nlp.update(texts, annotations, sgd=optimizer, drop=next(dropout), losses=losses)\n",
    "        with textcat.model.use_params(optimizer.averages):\n",
    "            # evaluate on the dev data split off in load_data()\n",
    "            scores = evaluate(nlp.tokenizer, textcat, dev_texts, dev_cats)\n",
    "        if scores['textcat_f'] > best_f:\n",
    "            best_f = scores['textcat_f']\n",
    "            n_iter_nogain = 0\n",
    "        elif scores['textcat_f'] > last_f:\n",
    "            n_iter_nogain = 0\n",
    "        else:\n",
    "            n_iter_nogain += 1\n",
    "        last_f = scores['textcat_f']\n",
    "        print('{4}\\t{0:.3f}\\t{1:.3f}\\t{2:.3f}\\t{3:.3f}'  # print a simple table\n",
    "              .format(losses['textcat'], scores['textcat_p'],\n",
    "                      scores['textcat_r'], scores['textcat_f'], i))\n",
    "        if n_iter_nogain > 3:\n",
    "            print('early stopping')\n",
    "            break\n"
   ]
  },
  {
   "cell_type": "code",
   "execution_count": null,
   "metadata": {},
   "outputs": [],
   "source": []
  }
 ],
 "metadata": {
  "kernelspec": {
   "display_name": "Python 3",
   "language": "python",
   "name": "python3"
  },
  "language_info": {
   "codemirror_mode": {
    "name": "ipython",
    "version": 3
   },
   "file_extension": ".py",
   "mimetype": "text/x-python",
   "name": "python",
   "nbconvert_exporter": "python",
   "pygments_lexer": "ipython3",
   "version": "3.6.6"
  }
 },
 "nbformat": 4,
 "nbformat_minor": 2
}
