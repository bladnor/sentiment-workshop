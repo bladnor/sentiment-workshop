{
 "cells": [
  {
   "cell_type": "code",
   "execution_count": 1,
   "metadata": {},
   "outputs": [
    {
     "name": "stdout",
     "output_type": "stream",
     "text": [
      "Exception reporting mode: Verbose\n"
     ]
    }
   ],
   "source": [
    "%reload_ext autoreload\n",
    "%autoreload 2\n",
    "\n",
    "%xmode Verbose"
   ]
  },
  {
   "cell_type": "code",
   "execution_count": 2,
   "metadata": {
    "scrolled": false
   },
   "outputs": [
    {
     "name": "stdout",
     "output_type": "stream",
     "text": [
      "train len 4759\n",
      "val len 250\n",
      "test len 3398\n",
      "text vocab size 17934\n",
      "lemma vocab size 16946\n",
      "label vocab size 2\n"
     ]
    },
    {
     "name": "stderr",
     "output_type": "stream",
     "text": [
      "/Users/michel/.conda/envs/pytorch/lib/python3.6/site-packages/torchtext/data/field.py:322: UserWarning: volatile was removed and now has no effect. Use `with torch.no_grad():` instead.\n",
      "  return Variable(arr, volatile=not train)\n"
     ]
    },
    {
     "ename": "ZeroDivisionError",
     "evalue": "float division by zero",
     "output_type": "error",
     "traceback": [
      "\u001b[0;31m---------------------------------------------------------------------------\u001b[0m",
      "\u001b[0;31mZeroDivisionError\u001b[0m                         Traceback (most recent call last)",
      "\u001b[0;32m~/innoq/machinelearning/germeval2018/06_pytorch_lstm.py\u001b[0m in \u001b[0;36m<module>\u001b[0;34m()\u001b[0m\n\u001b[1;32m    201\u001b[0m         model, trn_iter, optimizer, criterion, binary_accuracy)\n\u001b[1;32m    202\u001b[0m     valid_loss, valid_acc, recall, precision, f_score = evaluate(\n\u001b[0;32m--> 203\u001b[0;31m         model, val_iter, criterion, detail_metric)\n\u001b[0m        \u001b[0;36mglobal\u001b[0m \u001b[0;36mmodel\u001b[0m \u001b[0;34m= SimpleLSTM(\n  (embedding): Embedding(17934, 100)\n  (rnn): LSTM(100, 100, num_layers=3, dropout=0.7, bidirectional=True)\n  (fc): Linear(in_features=200, out_features=1, bias=True)\n  (dropout): Dropout(p=0.7)\n)\u001b[0m\u001b[0;34m\n        \u001b[0m\u001b[0;36mglobal\u001b[0m \u001b[0;36mval_iter\u001b[0m \u001b[0;34m= <torchtext.data.iterator.BucketIterator object at 0x119764e48>\u001b[0m\u001b[0;34m\n        \u001b[0m\u001b[0;36mglobal\u001b[0m \u001b[0;36mcriterion\u001b[0m \u001b[0;34m= BCEWithLogitsLoss()\u001b[0m\u001b[0;34m\n        \u001b[0m\u001b[0;36mglobal\u001b[0m \u001b[0;36mdetail_metric\u001b[0m \u001b[0;34m= <function detail_metric at 0x1301d07b8>\u001b[0m\n\u001b[1;32m    204\u001b[0m \u001b[0;34m\u001b[0m\u001b[0m\n\u001b[1;32m    205\u001b[0m     \u001b[0mprint\u001b[0m\u001b[0;34m(\u001b[0m\u001b[0;34mf'EPOCH: {epoch:02}\\nTRN_LOS: {train_loss:.3f} - TRN_ACC: {train_acc*100:.2f}% - VAL_LOS: {valid_loss:.3f} - VAL_ACC: {valid_acc*100:.2f}% - REC: {recall:.4f} - PRE: {precision:.4f} - F1: {f_score:.4f}'\u001b[0m\u001b[0;34m)\u001b[0m\u001b[0;34m\u001b[0m\u001b[0m\n",
      "\u001b[0;32m~/innoq/machinelearning/germeval2018/06_pytorch_lstm.py\u001b[0m in \u001b[0;36mevaluate\u001b[0;34m(model=SimpleLSTM(\n  (embedding): Embedding(17934, 100)...tures=1, bias=True)\n  (dropout): Dropout(p=0.7)\n), iterator=<torchtext.data.iterator.BucketIterator object>, criterion=BCEWithLogitsLoss(), metric=<function detail_metric>)\u001b[0m\n\u001b[1;32m    176\u001b[0m \u001b[0;34m\u001b[0m\u001b[0m\n\u001b[1;32m    177\u001b[0m     \u001b[0mrecall\u001b[0m \u001b[0;34m=\u001b[0m \u001b[0mfloat\u001b[0m\u001b[0;34m(\u001b[0m\u001b[0mepoch_meter_tp\u001b[0m\u001b[0;34m)\u001b[0m \u001b[0;34m/\u001b[0m \u001b[0;34m(\u001b[0m\u001b[0mepoch_meter_tp\u001b[0m \u001b[0;34m+\u001b[0m \u001b[0mepoch_meter_fn\u001b[0m\u001b[0;34m)\u001b[0m\u001b[0;34m\u001b[0m\u001b[0m\n\u001b[0;32m--> 178\u001b[0;31m     \u001b[0mprecision\u001b[0m \u001b[0;34m=\u001b[0m \u001b[0mfloat\u001b[0m\u001b[0;34m(\u001b[0m\u001b[0mepoch_meter_tp\u001b[0m\u001b[0;34m)\u001b[0m \u001b[0;34m/\u001b[0m \u001b[0;34m(\u001b[0m\u001b[0mepoch_meter_tp\u001b[0m \u001b[0;34m+\u001b[0m \u001b[0mepoch_meter_fp\u001b[0m\u001b[0;34m)\u001b[0m\u001b[0;34m\u001b[0m\u001b[0m\n\u001b[0m        \u001b[0;36mprecision\u001b[0m \u001b[0;34m= \u001b[0;36mundefined\u001b[0m\u001b[0m\u001b[0;34m\n        \u001b[0m\u001b[0;36mglobal\u001b[0m \u001b[0;36mfloat\u001b[0m \u001b[0;34m= \u001b[0;36mundefined\u001b[0m\u001b[0m\u001b[0;34m\n        \u001b[0m\u001b[0;36mepoch_meter_tp\u001b[0m \u001b[0;34m= 0\u001b[0m\u001b[0;34m\n        \u001b[0m\u001b[0;36mepoch_meter_fp\u001b[0m \u001b[0;34m= 0\u001b[0m\n\u001b[1;32m    179\u001b[0m     \u001b[0mf_score\u001b[0m \u001b[0;34m=\u001b[0m \u001b[0;36m2\u001b[0m \u001b[0;34m*\u001b[0m \u001b[0mprecision\u001b[0m \u001b[0;34m*\u001b[0m \u001b[0mrecall\u001b[0m \u001b[0;34m/\u001b[0m \u001b[0;34m(\u001b[0m\u001b[0mprecision\u001b[0m \u001b[0;34m+\u001b[0m \u001b[0mrecall\u001b[0m\u001b[0;34m)\u001b[0m\u001b[0;34m\u001b[0m\u001b[0m\n\u001b[1;32m    180\u001b[0m     \u001b[0;32mreturn\u001b[0m \u001b[0mepoch_loss\u001b[0m \u001b[0;34m/\u001b[0m \u001b[0mlen\u001b[0m\u001b[0;34m(\u001b[0m\u001b[0miterator\u001b[0m\u001b[0;34m)\u001b[0m\u001b[0;34m,\u001b[0m \u001b[0;34m(\u001b[0m\u001b[0mepoch_meter_tp\u001b[0m \u001b[0;34m+\u001b[0m \u001b[0mepoch_meter_tn\u001b[0m\u001b[0;34m)\u001b[0m \u001b[0;34m/\u001b[0m \u001b[0;34m(\u001b[0m\u001b[0mepoch_meter_tp\u001b[0m \u001b[0;34m+\u001b[0m \u001b[0mepoch_meter_tn\u001b[0m \u001b[0;34m+\u001b[0m \u001b[0mepoch_meter_fp\u001b[0m \u001b[0;34m+\u001b[0m \u001b[0mepoch_meter_fn\u001b[0m\u001b[0;34m)\u001b[0m\u001b[0;34m,\u001b[0m \u001b[0mrecall\u001b[0m\u001b[0;34m,\u001b[0m \u001b[0mprecision\u001b[0m\u001b[0;34m,\u001b[0m \u001b[0mf_score\u001b[0m\u001b[0;34m\u001b[0m\u001b[0m\n",
      "\u001b[0;31mZeroDivisionError\u001b[0m: float division by zero"
     ]
    }
   ],
   "source": [
    "%run 06_pytorch_lstm.py"
   ]
  }
 ],
 "metadata": {
  "kernelspec": {
   "display_name": "Python (pytorch)",
   "language": "python",
   "name": "pytorch"
  },
  "language_info": {
   "codemirror_mode": {
    "name": "ipython",
    "version": 3
   },
   "file_extension": ".py",
   "mimetype": "text/x-python",
   "name": "python",
   "nbconvert_exporter": "python",
   "pygments_lexer": "ipython3",
   "version": "3.6.6"
  }
 },
 "nbformat": 4,
 "nbformat_minor": 2
}
